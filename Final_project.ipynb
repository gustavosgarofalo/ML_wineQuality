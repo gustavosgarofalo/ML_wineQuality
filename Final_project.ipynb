{
 "cells": [
  {
   "cell_type": "markdown",
   "metadata": {},
   "source": [
    "# Machine Learning - project milestone 3"
   ]
  },
  {
   "cell_type": "code",
   "execution_count": 1,
   "metadata": {},
   "outputs": [],
   "source": [
    "# Import Dependencies\n",
    "%matplotlib inline\n",
    "\n",
    "# Start Python Imports\n",
    "import math, time, random, datetime\n",
    "\n",
    "# Data Manipulation\n",
    "import numpy as np\n",
    "import pandas as pd\n",
    "from numpy import mean\n",
    "\n",
    "# Visualization \n",
    "import matplotlib.pyplot as plt\n",
    "import missingno\n",
    "import seaborn as sns\n",
    "plt.style.use('seaborn-whitegrid')\n",
    "\n",
    "# Machine learning\n",
    "import catboost\n",
    "from sklearn.model_selection import train_test_split\n",
    "from sklearn import model_selection, tree, preprocessing, metrics, linear_model\n",
    "from sklearn.svm import LinearSVC\n",
    "from sklearn.ensemble import GradientBoostingClassifier\n",
    "from sklearn.neighbors import KNeighborsClassifier\n",
    "from sklearn.naive_bayes import GaussianNB\n",
    "from sklearn.linear_model import LinearRegression, LogisticRegression, SGDClassifier\n",
    "from sklearn.tree import DecisionTreeClassifier\n",
    "from catboost import CatBoostClassifier, Pool, cv\n",
    "from xgboost import XGBClassifier\n",
    "from xgboost import plot_importance\n",
    "from sklearn.model_selection import KFold\n",
    "from sklearn.model_selection import cross_val_score\n",
    "from sklearn.metrics import accuracy_score\n",
    "from sklearn.model_selection import GridSearchCV\n",
    "\n",
    "# Let's be rebels and ignore warnings for now\n",
    "import warnings\n",
    "warnings.filterwarnings('ignore')"
   ]
  },
  {
   "cell_type": "markdown",
   "metadata": {},
   "source": [
    "### Loading in the data\n",
    "\n",
    "Load the downloaded dta under the folder \"Resources\" to a variable named data"
   ]
  },
  {
   "cell_type": "code",
   "execution_count": 2,
   "metadata": {},
   "outputs": [],
   "source": [
    "data=pd.read_csv(\"Resources/winequalityN.csv\")"
   ]
  },
  {
   "cell_type": "code",
   "execution_count": 3,
   "metadata": {},
   "outputs": [
    {
     "data": {
      "text/html": [
       "<div>\n",
       "<style scoped>\n",
       "    .dataframe tbody tr th:only-of-type {\n",
       "        vertical-align: middle;\n",
       "    }\n",
       "\n",
       "    .dataframe tbody tr th {\n",
       "        vertical-align: top;\n",
       "    }\n",
       "\n",
       "    .dataframe thead th {\n",
       "        text-align: right;\n",
       "    }\n",
       "</style>\n",
       "<table border=\"1\" class=\"dataframe\">\n",
       "  <thead>\n",
       "    <tr style=\"text-align: right;\">\n",
       "      <th></th>\n",
       "      <th>type</th>\n",
       "      <th>fixed acidity</th>\n",
       "      <th>volatile acidity</th>\n",
       "      <th>citric acid</th>\n",
       "      <th>residual sugar</th>\n",
       "      <th>chlorides</th>\n",
       "      <th>free sulfur dioxide</th>\n",
       "      <th>total sulfur dioxide</th>\n",
       "      <th>density</th>\n",
       "      <th>pH</th>\n",
       "      <th>sulphates</th>\n",
       "      <th>alcohol</th>\n",
       "      <th>quality</th>\n",
       "    </tr>\n",
       "  </thead>\n",
       "  <tbody>\n",
       "    <tr>\n",
       "      <th>0</th>\n",
       "      <td>white</td>\n",
       "      <td>7.0</td>\n",
       "      <td>0.27</td>\n",
       "      <td>0.36</td>\n",
       "      <td>20.7</td>\n",
       "      <td>0.045</td>\n",
       "      <td>45.0</td>\n",
       "      <td>170.0</td>\n",
       "      <td>1.0010</td>\n",
       "      <td>3.00</td>\n",
       "      <td>0.45</td>\n",
       "      <td>8.8</td>\n",
       "      <td>6</td>\n",
       "    </tr>\n",
       "    <tr>\n",
       "      <th>1</th>\n",
       "      <td>white</td>\n",
       "      <td>6.3</td>\n",
       "      <td>0.30</td>\n",
       "      <td>0.34</td>\n",
       "      <td>1.6</td>\n",
       "      <td>0.049</td>\n",
       "      <td>14.0</td>\n",
       "      <td>132.0</td>\n",
       "      <td>0.9940</td>\n",
       "      <td>3.30</td>\n",
       "      <td>0.49</td>\n",
       "      <td>9.5</td>\n",
       "      <td>6</td>\n",
       "    </tr>\n",
       "    <tr>\n",
       "      <th>2</th>\n",
       "      <td>white</td>\n",
       "      <td>8.1</td>\n",
       "      <td>0.28</td>\n",
       "      <td>0.40</td>\n",
       "      <td>6.9</td>\n",
       "      <td>0.050</td>\n",
       "      <td>30.0</td>\n",
       "      <td>97.0</td>\n",
       "      <td>0.9951</td>\n",
       "      <td>3.26</td>\n",
       "      <td>0.44</td>\n",
       "      <td>10.1</td>\n",
       "      <td>6</td>\n",
       "    </tr>\n",
       "    <tr>\n",
       "      <th>3</th>\n",
       "      <td>white</td>\n",
       "      <td>7.2</td>\n",
       "      <td>0.23</td>\n",
       "      <td>0.32</td>\n",
       "      <td>8.5</td>\n",
       "      <td>0.058</td>\n",
       "      <td>47.0</td>\n",
       "      <td>186.0</td>\n",
       "      <td>0.9956</td>\n",
       "      <td>3.19</td>\n",
       "      <td>0.40</td>\n",
       "      <td>9.9</td>\n",
       "      <td>6</td>\n",
       "    </tr>\n",
       "    <tr>\n",
       "      <th>4</th>\n",
       "      <td>white</td>\n",
       "      <td>7.2</td>\n",
       "      <td>0.23</td>\n",
       "      <td>0.32</td>\n",
       "      <td>8.5</td>\n",
       "      <td>0.058</td>\n",
       "      <td>47.0</td>\n",
       "      <td>186.0</td>\n",
       "      <td>0.9956</td>\n",
       "      <td>3.19</td>\n",
       "      <td>0.40</td>\n",
       "      <td>9.9</td>\n",
       "      <td>6</td>\n",
       "    </tr>\n",
       "  </tbody>\n",
       "</table>\n",
       "</div>"
      ],
      "text/plain": [
       "    type  fixed acidity  volatile acidity  citric acid  residual sugar  \\\n",
       "0  white            7.0              0.27         0.36            20.7   \n",
       "1  white            6.3              0.30         0.34             1.6   \n",
       "2  white            8.1              0.28         0.40             6.9   \n",
       "3  white            7.2              0.23         0.32             8.5   \n",
       "4  white            7.2              0.23         0.32             8.5   \n",
       "\n",
       "   chlorides  free sulfur dioxide  total sulfur dioxide  density    pH  \\\n",
       "0      0.045                 45.0                 170.0   1.0010  3.00   \n",
       "1      0.049                 14.0                 132.0   0.9940  3.30   \n",
       "2      0.050                 30.0                  97.0   0.9951  3.26   \n",
       "3      0.058                 47.0                 186.0   0.9956  3.19   \n",
       "4      0.058                 47.0                 186.0   0.9956  3.19   \n",
       "\n",
       "   sulphates  alcohol  quality  \n",
       "0       0.45      8.8        6  \n",
       "1       0.49      9.5        6  \n",
       "2       0.44     10.1        6  \n",
       "3       0.40      9.9        6  \n",
       "4       0.40      9.9        6  "
      ]
     },
     "execution_count": 3,
     "metadata": {},
     "output_type": "execute_result"
    }
   ],
   "source": [
    "data.head()"
   ]
  },
  {
   "cell_type": "markdown",
   "metadata": {},
   "source": [
    "### Data features\n",
    "\n",
    "   Input variables (based on physicochemical tests):\n",
    "   \n",
    "       1 - fixed acidity\n",
    "       2 - volatile acidity\n",
    "       3 - citric acid\n",
    "       4 - residual sugar\n",
    "       5 - chlorides\n",
    "       6 - free sulfur dioxide\n",
    "       7 - total sulfur dioxide\n",
    "       8 - density\n",
    "       9 - pH\n",
    "       10 - sulphates\n",
    "       11 - alcohol\n",
    "   Output variable (based on sensory data): \n",
    "   \n",
    "       12 - quality (score between 0 and 10)"
   ]
  },
  {
   "cell_type": "code",
   "execution_count": 4,
   "metadata": {},
   "outputs": [
    {
     "ename": "TypeError",
     "evalue": "Cannot interpret '<attribute 'dtype' of 'numpy.generic' objects>' as a data type",
     "output_type": "error",
     "traceback": [
      "\u001b[1;31m---------------------------------------------------------------------------\u001b[0m",
      "\u001b[1;31mTypeError\u001b[0m                                 Traceback (most recent call last)",
      "\u001b[1;32m<ipython-input-4-3ee38016fad9>\u001b[0m in \u001b[0;36m<module>\u001b[1;34m\u001b[0m\n\u001b[0;32m      1\u001b[0m \u001b[1;31m#Visualizing mian statistical metrics for the whole dataset\u001b[0m\u001b[1;33m\u001b[0m\u001b[1;33m\u001b[0m\u001b[1;33m\u001b[0m\u001b[0m\n\u001b[1;32m----> 2\u001b[1;33m \u001b[0mdata\u001b[0m\u001b[1;33m.\u001b[0m\u001b[0mdescribe\u001b[0m\u001b[1;33m(\u001b[0m\u001b[1;33m)\u001b[0m\u001b[1;33m\u001b[0m\u001b[1;33m\u001b[0m\u001b[0m\n\u001b[0m",
      "\u001b[1;32m~\\Anaconda3\\lib\\site-packages\\pandas\\core\\generic.py\u001b[0m in \u001b[0;36mdescribe\u001b[1;34m(self, percentiles, include, exclude)\u001b[0m\n\u001b[0;32m  10263\u001b[0m         \u001b[1;32melif\u001b[0m \u001b[1;33m(\u001b[0m\u001b[0minclude\u001b[0m \u001b[1;32mis\u001b[0m \u001b[1;32mNone\u001b[0m\u001b[1;33m)\u001b[0m \u001b[1;32mand\u001b[0m \u001b[1;33m(\u001b[0m\u001b[0mexclude\u001b[0m \u001b[1;32mis\u001b[0m \u001b[1;32mNone\u001b[0m\u001b[1;33m)\u001b[0m\u001b[1;33m:\u001b[0m\u001b[1;33m\u001b[0m\u001b[1;33m\u001b[0m\u001b[0m\n\u001b[0;32m  10264\u001b[0m             \u001b[1;31m# when some numerics are found, keep only numerics\u001b[0m\u001b[1;33m\u001b[0m\u001b[1;33m\u001b[0m\u001b[1;33m\u001b[0m\u001b[0m\n\u001b[1;32m> 10265\u001b[1;33m             \u001b[0mdata\u001b[0m \u001b[1;33m=\u001b[0m \u001b[0mself\u001b[0m\u001b[1;33m.\u001b[0m\u001b[0mselect_dtypes\u001b[0m\u001b[1;33m(\u001b[0m\u001b[0minclude\u001b[0m\u001b[1;33m=\u001b[0m\u001b[1;33m[\u001b[0m\u001b[0mnp\u001b[0m\u001b[1;33m.\u001b[0m\u001b[0mnumber\u001b[0m\u001b[1;33m]\u001b[0m\u001b[1;33m)\u001b[0m\u001b[1;33m\u001b[0m\u001b[1;33m\u001b[0m\u001b[0m\n\u001b[0m\u001b[0;32m  10266\u001b[0m             \u001b[1;32mif\u001b[0m \u001b[0mlen\u001b[0m\u001b[1;33m(\u001b[0m\u001b[0mdata\u001b[0m\u001b[1;33m.\u001b[0m\u001b[0mcolumns\u001b[0m\u001b[1;33m)\u001b[0m \u001b[1;33m==\u001b[0m \u001b[1;36m0\u001b[0m\u001b[1;33m:\u001b[0m\u001b[1;33m\u001b[0m\u001b[1;33m\u001b[0m\u001b[0m\n\u001b[0;32m  10267\u001b[0m                 \u001b[0mdata\u001b[0m \u001b[1;33m=\u001b[0m \u001b[0mself\u001b[0m\u001b[1;33m\u001b[0m\u001b[1;33m\u001b[0m\u001b[0m\n",
      "\u001b[1;32m~\\Anaconda3\\lib\\site-packages\\pandas\\core\\frame.py\u001b[0m in \u001b[0;36mselect_dtypes\u001b[1;34m(self, include, exclude)\u001b[0m\n\u001b[0;32m   3440\u001b[0m         \u001b[1;31m# the \"union\" of the logic of case 1 and case 2:\u001b[0m\u001b[1;33m\u001b[0m\u001b[1;33m\u001b[0m\u001b[1;33m\u001b[0m\u001b[0m\n\u001b[0;32m   3441\u001b[0m         \u001b[1;31m# we get the included and excluded, and return their logical and\u001b[0m\u001b[1;33m\u001b[0m\u001b[1;33m\u001b[0m\u001b[1;33m\u001b[0m\u001b[0m\n\u001b[1;32m-> 3442\u001b[1;33m         \u001b[0minclude_these\u001b[0m \u001b[1;33m=\u001b[0m \u001b[0mSeries\u001b[0m\u001b[1;33m(\u001b[0m\u001b[1;32mnot\u001b[0m \u001b[0mbool\u001b[0m\u001b[1;33m(\u001b[0m\u001b[0minclude\u001b[0m\u001b[1;33m)\u001b[0m\u001b[1;33m,\u001b[0m \u001b[0mindex\u001b[0m\u001b[1;33m=\u001b[0m\u001b[0mself\u001b[0m\u001b[1;33m.\u001b[0m\u001b[0mcolumns\u001b[0m\u001b[1;33m)\u001b[0m\u001b[1;33m\u001b[0m\u001b[1;33m\u001b[0m\u001b[0m\n\u001b[0m\u001b[0;32m   3443\u001b[0m         \u001b[0mexclude_these\u001b[0m \u001b[1;33m=\u001b[0m \u001b[0mSeries\u001b[0m\u001b[1;33m(\u001b[0m\u001b[1;32mnot\u001b[0m \u001b[0mbool\u001b[0m\u001b[1;33m(\u001b[0m\u001b[0mexclude\u001b[0m\u001b[1;33m)\u001b[0m\u001b[1;33m,\u001b[0m \u001b[0mindex\u001b[0m\u001b[1;33m=\u001b[0m\u001b[0mself\u001b[0m\u001b[1;33m.\u001b[0m\u001b[0mcolumns\u001b[0m\u001b[1;33m)\u001b[0m\u001b[1;33m\u001b[0m\u001b[1;33m\u001b[0m\u001b[0m\n\u001b[0;32m   3444\u001b[0m \u001b[1;33m\u001b[0m\u001b[0m\n",
      "\u001b[1;32m~\\Anaconda3\\lib\\site-packages\\pandas\\core\\series.py\u001b[0m in \u001b[0;36m__init__\u001b[1;34m(self, data, index, dtype, name, copy, fastpath)\u001b[0m\n\u001b[0;32m    312\u001b[0m                     \u001b[0mdata\u001b[0m \u001b[1;33m=\u001b[0m \u001b[0mdata\u001b[0m\u001b[1;33m.\u001b[0m\u001b[0mcopy\u001b[0m\u001b[1;33m(\u001b[0m\u001b[1;33m)\u001b[0m\u001b[1;33m\u001b[0m\u001b[1;33m\u001b[0m\u001b[0m\n\u001b[0;32m    313\u001b[0m             \u001b[1;32melse\u001b[0m\u001b[1;33m:\u001b[0m\u001b[1;33m\u001b[0m\u001b[1;33m\u001b[0m\u001b[0m\n\u001b[1;32m--> 314\u001b[1;33m                 \u001b[0mdata\u001b[0m \u001b[1;33m=\u001b[0m \u001b[0msanitize_array\u001b[0m\u001b[1;33m(\u001b[0m\u001b[0mdata\u001b[0m\u001b[1;33m,\u001b[0m \u001b[0mindex\u001b[0m\u001b[1;33m,\u001b[0m \u001b[0mdtype\u001b[0m\u001b[1;33m,\u001b[0m \u001b[0mcopy\u001b[0m\u001b[1;33m,\u001b[0m \u001b[0mraise_cast_failure\u001b[0m\u001b[1;33m=\u001b[0m\u001b[1;32mTrue\u001b[0m\u001b[1;33m)\u001b[0m\u001b[1;33m\u001b[0m\u001b[1;33m\u001b[0m\u001b[0m\n\u001b[0m\u001b[0;32m    315\u001b[0m \u001b[1;33m\u001b[0m\u001b[0m\n\u001b[0;32m    316\u001b[0m                 \u001b[0mdata\u001b[0m \u001b[1;33m=\u001b[0m \u001b[0mSingleBlockManager\u001b[0m\u001b[1;33m(\u001b[0m\u001b[0mdata\u001b[0m\u001b[1;33m,\u001b[0m \u001b[0mindex\u001b[0m\u001b[1;33m,\u001b[0m \u001b[0mfastpath\u001b[0m\u001b[1;33m=\u001b[0m\u001b[1;32mTrue\u001b[0m\u001b[1;33m)\u001b[0m\u001b[1;33m\u001b[0m\u001b[1;33m\u001b[0m\u001b[0m\n",
      "\u001b[1;32m~\\Anaconda3\\lib\\site-packages\\pandas\\core\\internals\\construction.py\u001b[0m in \u001b[0;36msanitize_array\u001b[1;34m(data, index, dtype, copy, raise_cast_failure)\u001b[0m\n\u001b[0;32m    710\u001b[0m                 \u001b[0mvalue\u001b[0m \u001b[1;33m=\u001b[0m \u001b[0mmaybe_cast_to_datetime\u001b[0m\u001b[1;33m(\u001b[0m\u001b[0mvalue\u001b[0m\u001b[1;33m,\u001b[0m \u001b[0mdtype\u001b[0m\u001b[1;33m)\u001b[0m\u001b[1;33m\u001b[0m\u001b[1;33m\u001b[0m\u001b[0m\n\u001b[0;32m    711\u001b[0m \u001b[1;33m\u001b[0m\u001b[0m\n\u001b[1;32m--> 712\u001b[1;33m             \u001b[0msubarr\u001b[0m \u001b[1;33m=\u001b[0m \u001b[0mconstruct_1d_arraylike_from_scalar\u001b[0m\u001b[1;33m(\u001b[0m\u001b[0mvalue\u001b[0m\u001b[1;33m,\u001b[0m \u001b[0mlen\u001b[0m\u001b[1;33m(\u001b[0m\u001b[0mindex\u001b[0m\u001b[1;33m)\u001b[0m\u001b[1;33m,\u001b[0m \u001b[0mdtype\u001b[0m\u001b[1;33m)\u001b[0m\u001b[1;33m\u001b[0m\u001b[1;33m\u001b[0m\u001b[0m\n\u001b[0m\u001b[0;32m    713\u001b[0m \u001b[1;33m\u001b[0m\u001b[0m\n\u001b[0;32m    714\u001b[0m         \u001b[1;32melse\u001b[0m\u001b[1;33m:\u001b[0m\u001b[1;33m\u001b[0m\u001b[1;33m\u001b[0m\u001b[0m\n",
      "\u001b[1;32m~\\Anaconda3\\lib\\site-packages\\pandas\\core\\dtypes\\cast.py\u001b[0m in \u001b[0;36mconstruct_1d_arraylike_from_scalar\u001b[1;34m(value, length, dtype)\u001b[0m\n\u001b[0;32m   1231\u001b[0m                 \u001b[0mvalue\u001b[0m \u001b[1;33m=\u001b[0m \u001b[0mensure_str\u001b[0m\u001b[1;33m(\u001b[0m\u001b[0mvalue\u001b[0m\u001b[1;33m)\u001b[0m\u001b[1;33m\u001b[0m\u001b[1;33m\u001b[0m\u001b[0m\n\u001b[0;32m   1232\u001b[0m \u001b[1;33m\u001b[0m\u001b[0m\n\u001b[1;32m-> 1233\u001b[1;33m         \u001b[0msubarr\u001b[0m \u001b[1;33m=\u001b[0m \u001b[0mnp\u001b[0m\u001b[1;33m.\u001b[0m\u001b[0mempty\u001b[0m\u001b[1;33m(\u001b[0m\u001b[0mlength\u001b[0m\u001b[1;33m,\u001b[0m \u001b[0mdtype\u001b[0m\u001b[1;33m=\u001b[0m\u001b[0mdtype\u001b[0m\u001b[1;33m)\u001b[0m\u001b[1;33m\u001b[0m\u001b[1;33m\u001b[0m\u001b[0m\n\u001b[0m\u001b[0;32m   1234\u001b[0m         \u001b[0msubarr\u001b[0m\u001b[1;33m.\u001b[0m\u001b[0mfill\u001b[0m\u001b[1;33m(\u001b[0m\u001b[0mvalue\u001b[0m\u001b[1;33m)\u001b[0m\u001b[1;33m\u001b[0m\u001b[1;33m\u001b[0m\u001b[0m\n\u001b[0;32m   1235\u001b[0m \u001b[1;33m\u001b[0m\u001b[0m\n",
      "\u001b[1;31mTypeError\u001b[0m: Cannot interpret '<attribute 'dtype' of 'numpy.generic' objects>' as a data type"
     ]
    }
   ],
   "source": [
    "#Visualizing mian statistical metrics for the whole dataset\n",
    "data.describe()"
   ]
  },
  {
   "cell_type": "code",
   "execution_count": null,
   "metadata": {},
   "outputs": [],
   "source": [
    "#Filtering the dataset into white and red wine to evaluate its statictics individually\n",
    "redWine=data[data['type'] == \"red\"]\n",
    "whiteWine=data[data['type'] == \"white\"]"
   ]
  },
  {
   "cell_type": "code",
   "execution_count": null,
   "metadata": {},
   "outputs": [],
   "source": [
    "redWine.describe()"
   ]
  },
  {
   "cell_type": "code",
   "execution_count": null,
   "metadata": {},
   "outputs": [],
   "source": [
    "whiteWine.describe()"
   ]
  },
  {
   "cell_type": "markdown",
   "metadata": {},
   "source": [
    "As we can observe from the description of the separate type of wines, although the quality is vey approximate on average, the chemical components hve completely different profiles. Indicating that what makes white wine a good or bad wine is probably not the same for the red wines."
   ]
  },
  {
   "cell_type": "markdown",
   "metadata": {},
   "source": [
    "## What missing values are there?\n",
    "\n",
    "Where are the holes in our data?\n",
    "\n",
    "These are rows which are missing a value or have NaN instead of something like the rest of the column."
   ]
  },
  {
   "cell_type": "code",
   "execution_count": null,
   "metadata": {},
   "outputs": [],
   "source": [
    "# Plot graphic of missing values\n",
    "missingno.matrix(data, figsize = (50,15))"
   ]
  },
  {
   "cell_type": "markdown",
   "metadata": {},
   "source": [
    "This is a unique scenario to find where you have a dataset which is almost absolutelly complete, wothout any missing values. This will allow more time to focus on finding the best model performance later on. We can visualize by the graph above that a tiny bit of ph levels are missing along with some fixed acidity and citric acid holes, almost too hard to visualize. We will be able to drop those values without compromising the dataset."
   ]
  },
  {
   "cell_type": "code",
   "execution_count": null,
   "metadata": {},
   "outputs": [],
   "source": [
    "# Alternatively, you can see the number of missing values like this\n",
    "data.isnull().sum()"
   ]
  },
  {
   "cell_type": "markdown",
   "metadata": {},
   "source": [
    "From an Excel spreadsheet I could antecipate that a few of these missing values are in the same rows, which will minimize even more the impacts of its removal"
   ]
  },
  {
   "cell_type": "markdown",
   "metadata": {},
   "source": [
    "## Visualize and analyse each feature and classify them\n",
    "\n",
    "Here we will be able to visualize the distribution of each feature's frequency, remove the few missing values and separate them into categorical (one and only Output) and add them into our empty dataFrames. Everything will be done in duplicity, one for the white wine dataset and another for the red wine dataset. The empty dataFrames were cre"
   ]
  },
  {
   "cell_type": "code",
   "execution_count": null,
   "metadata": {},
   "outputs": [],
   "source": [
    "#Creating empty dataframes to separate the types of wines and transforming categorical into binary\n",
    "red_bin = pd.DataFrame()\n",
    "whi_bin = pd.DataFrame() \n"
   ]
  },
  {
   "cell_type": "markdown",
   "metadata": {},
   "source": [
    "### What datatypes are in the dataframe?"
   ]
  },
  {
   "cell_type": "code",
   "execution_count": null,
   "metadata": {},
   "outputs": [],
   "source": [
    "# Different data types in the dataset\n",
    "data.dtypes"
   ]
  },
  {
   "cell_type": "markdown",
   "metadata": {},
   "source": [
    "## Let's explore each of these features individually\n",
    "We'll go through each column iteratively and see which ones to use in our first models.\n",
    "Some may need more preprocessing than others to get ready."
   ]
  },
  {
   "cell_type": "code",
   "execution_count": null,
   "metadata": {},
   "outputs": [],
   "source": [
    "data.head()"
   ]
  },
  {
   "cell_type": "markdown",
   "metadata": {},
   "source": [
    "### Target Feature:Quality\n",
    "\n",
    "Description: Wine grade given by specialists based on taste test.\n",
    "    \n",
    "Ranges from 0 to 10, primarily we will consider wines with a grade 6 or greater a good wine otherwise a bad wine. Although they are numerical we will transform it in categorical/binary, at first in order to simplify our models later on.\n",
    "    \n",
    "This is the variable we want our machine learning model to predict based off all the others."
   ]
  },
  {
   "cell_type": "code",
   "execution_count": null,
   "metadata": {},
   "outputs": [],
   "source": [
    "# Are there any missing values in the quality column?\n",
    "data.quality.isnull().sum()"
   ]
  },
  {
   "cell_type": "code",
   "execution_count": null,
   "metadata": {},
   "outputs": [],
   "source": [
    "# Frequency of grade for white wine\n",
    "fig = plt.figure(figsize=(7,5))\n",
    "sns.countplot(y='quality', data=whiteWine);\n",
    "print(whiteWine.quality.value_counts())"
   ]
  },
  {
   "cell_type": "code",
   "execution_count": null,
   "metadata": {},
   "outputs": [],
   "source": [
    "# add Sex to the subset dataframes\n",
    "whi_bin['quality'] = whiteWine['quality']\n",
    "whi_bin['quality'] = np.where(whi_bin['quality'] >=  6, 1, 0) # change quality to 0 for values lower than 6 and 1 for grater than 6"
   ]
  },
  {
   "cell_type": "code",
   "execution_count": null,
   "metadata": {},
   "outputs": [],
   "source": [
    "whi_bin.head()"
   ]
  },
  {
   "cell_type": "code",
   "execution_count": null,
   "metadata": {},
   "outputs": [],
   "source": [
    "# Frequency of grade for red wine\n",
    "fig = plt.figure(figsize=(20,10))\n",
    "sns.countplot(y='quality', data=redWine);\n",
    "print(redWine.quality.value_counts())"
   ]
  },
  {
   "cell_type": "code",
   "execution_count": null,
   "metadata": {},
   "outputs": [],
   "source": [
    "# add to the subset dataframes\n",
    "red_bin['quality'] = redWine['quality']\n",
    "red_bin['quality'] = np.where(red_bin['quality'] >=  6, 1, 0) # change quality to 0 for values lower than 6 and 1 for grater than 6"
   ]
  },
  {
   "cell_type": "code",
   "execution_count": null,
   "metadata": {},
   "outputs": [],
   "source": [
    "red_bin.head()"
   ]
  },
  {
   "cell_type": "markdown",
   "metadata": {},
   "source": [
    "### Target Feature:Alcohol\n",
    "\n",
    "Description: Wine alcohol grade.\n",
    "    \n",
    "Numerical value acttually represents the percentage."
   ]
  },
  {
   "cell_type": "code",
   "execution_count": null,
   "metadata": {},
   "outputs": [],
   "source": [
    "# Are there any missing values in the alcohol column?\n",
    "data.alcohol.isnull().sum()"
   ]
  },
  {
   "cell_type": "code",
   "execution_count": null,
   "metadata": {},
   "outputs": [],
   "source": [
    "sns.distplot(whiteWine.alcohol)"
   ]
  },
  {
   "cell_type": "code",
   "execution_count": null,
   "metadata": {},
   "outputs": [],
   "source": [
    "sns.distplot(redWine.alcohol)"
   ]
  },
  {
   "cell_type": "code",
   "execution_count": null,
   "metadata": {},
   "outputs": [],
   "source": [
    "#Add alcohol to sub df\n",
    "whi_bin['alcohol'] = whiteWine['alcohol']"
   ]
  },
  {
   "cell_type": "code",
   "execution_count": null,
   "metadata": {},
   "outputs": [],
   "source": [
    "#same\n",
    "red_bin['alcohol'] = redWine['alcohol']"
   ]
  },
  {
   "cell_type": "markdown",
   "metadata": {},
   "source": [
    "### Target Feature: sulphates\n",
    "\n",
    "Description: Wine sulphates level.\n",
    "    "
   ]
  },
  {
   "cell_type": "code",
   "execution_count": null,
   "metadata": {},
   "outputs": [],
   "source": [
    "# Are there any missing values in the sulphates column?\n",
    "whiteWine.sulphates.isnull().sum()"
   ]
  },
  {
   "cell_type": "code",
   "execution_count": null,
   "metadata": {},
   "outputs": [],
   "source": [
    "# What do the counts look like?\n",
    "sns.countplot(y='sulphates', data=whiteWine);"
   ]
  },
  {
   "cell_type": "code",
   "execution_count": null,
   "metadata": {},
   "outputs": [],
   "source": [
    "#Add sulphates to sub df\n",
    "whi_bin['sulphates'] = whiteWine['sulphates']"
   ]
  },
  {
   "cell_type": "code",
   "execution_count": null,
   "metadata": {},
   "outputs": [],
   "source": [
    "#Remove missing values\n",
    "whi_bin = whi_bin.dropna(subset=['sulphates'])"
   ]
  },
  {
   "cell_type": "code",
   "execution_count": null,
   "metadata": {},
   "outputs": [],
   "source": [
    "# Are there any missing values in the sulphates column?\n",
    "redWine.sulphates.isnull().sum()"
   ]
  },
  {
   "cell_type": "code",
   "execution_count": null,
   "metadata": {},
   "outputs": [],
   "source": [
    "# What do the counts look like?\n",
    "sns.countplot(y='sulphates', data=redWine);"
   ]
  },
  {
   "cell_type": "code",
   "execution_count": null,
   "metadata": {},
   "outputs": [],
   "source": [
    "#Add sulphates to sub df\n",
    "red_bin['sulphates'] = redWine['sulphates']"
   ]
  },
  {
   "cell_type": "code",
   "execution_count": null,
   "metadata": {},
   "outputs": [],
   "source": [
    "#Remove missing values\n",
    "red_bin = red_bin.dropna(subset=['sulphates'])\n",
    "print(len(red_bin))"
   ]
  },
  {
   "cell_type": "markdown",
   "metadata": {},
   "source": [
    "### Target Feature: pH\n",
    "\n",
    "Description: Wine pH level."
   ]
  },
  {
   "cell_type": "code",
   "execution_count": null,
   "metadata": {},
   "outputs": [],
   "source": [
    "# Are there any missing values in the pH column?\n",
    "whiteWine.pH.isnull().sum()"
   ]
  },
  {
   "cell_type": "code",
   "execution_count": null,
   "metadata": {},
   "outputs": [],
   "source": [
    "# What do the counts look like?\n",
    "sns.countplot(y='pH', data=whiteWine);"
   ]
  },
  {
   "cell_type": "code",
   "execution_count": null,
   "metadata": {},
   "outputs": [],
   "source": [
    "#Add PH to sub df\n",
    "whi_bin['pH'] = whiteWine['pH']"
   ]
  },
  {
   "cell_type": "code",
   "execution_count": null,
   "metadata": {},
   "outputs": [],
   "source": [
    "#Remove missing values\n",
    "whi_bin = whi_bin.dropna(subset=['pH'])\n",
    "print(len(whi_bin))"
   ]
  },
  {
   "cell_type": "code",
   "execution_count": null,
   "metadata": {},
   "outputs": [],
   "source": [
    "# Are there any missing values in the pH column?\n",
    "redWine.pH.isnull().sum()"
   ]
  },
  {
   "cell_type": "code",
   "execution_count": null,
   "metadata": {},
   "outputs": [],
   "source": [
    "# What do the counts look like?\n",
    "sns.countplot(y='pH', data=redWine);"
   ]
  },
  {
   "cell_type": "code",
   "execution_count": null,
   "metadata": {},
   "outputs": [],
   "source": [
    "#Add to sub dfs\n",
    "red_bin['pH'] = redWine['pH']"
   ]
  },
  {
   "cell_type": "code",
   "execution_count": null,
   "metadata": {},
   "outputs": [],
   "source": [
    "#Remove missing values\n",
    "red_bin = red_bin.dropna(subset=['pH'])\n",
    "print(len(red_bin))"
   ]
  },
  {
   "cell_type": "markdown",
   "metadata": {},
   "source": [
    "### Target Feature: Density\n",
    "\n",
    "Description: Wine density level."
   ]
  },
  {
   "cell_type": "code",
   "execution_count": null,
   "metadata": {},
   "outputs": [],
   "source": [
    "# Are there any missing values in the column?\n",
    "data.density.isnull().sum()"
   ]
  },
  {
   "cell_type": "code",
   "execution_count": null,
   "metadata": {},
   "outputs": [],
   "source": [
    "sns.distplot(whiteWine.density)"
   ]
  },
  {
   "cell_type": "code",
   "execution_count": null,
   "metadata": {},
   "outputs": [],
   "source": [
    "#Add density to sub df\n",
    "whi_bin['density'] = whiteWine['density']"
   ]
  },
  {
   "cell_type": "code",
   "execution_count": null,
   "metadata": {},
   "outputs": [],
   "source": [
    "sns.distplot(redWine.density)"
   ]
  },
  {
   "cell_type": "code",
   "execution_count": null,
   "metadata": {},
   "outputs": [],
   "source": [
    "#same\n",
    "red_bin['density'] = redWine['density']"
   ]
  },
  {
   "cell_type": "markdown",
   "metadata": {},
   "source": [
    "### Target Feature: total sulfur dioxide\n",
    "\n",
    "Description: Wine total sulfur dioxide level."
   ]
  },
  {
   "cell_type": "code",
   "execution_count": null,
   "metadata": {},
   "outputs": [],
   "source": [
    "# Are there any missing values in the column?\n",
    "data['total sulfur dioxide'].isnull().sum()"
   ]
  },
  {
   "cell_type": "code",
   "execution_count": null,
   "metadata": {},
   "outputs": [],
   "source": [
    "sns.distplot(whiteWine['total sulfur dioxide'])"
   ]
  },
  {
   "cell_type": "code",
   "execution_count": null,
   "metadata": {},
   "outputs": [],
   "source": [
    "#Add to sub df\n",
    "whi_bin['total sulfur dioxide'] = whiteWine['total sulfur dioxide']"
   ]
  },
  {
   "cell_type": "code",
   "execution_count": null,
   "metadata": {},
   "outputs": [],
   "source": [
    "sns.distplot(redWine['total sulfur dioxide'])"
   ]
  },
  {
   "cell_type": "code",
   "execution_count": null,
   "metadata": {},
   "outputs": [],
   "source": [
    "#same\n",
    "red_bin['total sulfur dioxide'] = redWine['total sulfur dioxide']"
   ]
  },
  {
   "cell_type": "markdown",
   "metadata": {},
   "source": [
    "### Target Feature: free sulfur dioxide\n",
    "\n",
    "Description: Wine free sulfur dioxide level."
   ]
  },
  {
   "cell_type": "code",
   "execution_count": null,
   "metadata": {},
   "outputs": [],
   "source": [
    "# Are there any missing values in the column?\n",
    "data['free sulfur dioxide'].isnull().sum()"
   ]
  },
  {
   "cell_type": "code",
   "execution_count": null,
   "metadata": {},
   "outputs": [],
   "source": [
    "sns.distplot(whiteWine['free sulfur dioxide'])"
   ]
  },
  {
   "cell_type": "code",
   "execution_count": null,
   "metadata": {},
   "outputs": [],
   "source": [
    "#Add to sub df\n",
    "whi_bin['free sulfur dioxide'] = whiteWine['free sulfur dioxide']"
   ]
  },
  {
   "cell_type": "code",
   "execution_count": null,
   "metadata": {},
   "outputs": [],
   "source": [
    "sns.distplot(redWine['free sulfur dioxide'])"
   ]
  },
  {
   "cell_type": "code",
   "execution_count": null,
   "metadata": {},
   "outputs": [],
   "source": [
    "#same\n",
    "red_bin['free sulfur dioxide'] = redWine['free sulfur dioxide']"
   ]
  },
  {
   "cell_type": "markdown",
   "metadata": {},
   "source": [
    "### Target Feature: Chlorides\n",
    "\n",
    "Description: Wine chloride level."
   ]
  },
  {
   "cell_type": "code",
   "execution_count": null,
   "metadata": {},
   "outputs": [],
   "source": [
    "# Are there any missing values in the chlorides column?\n",
    "whiteWine.chlorides.isnull().sum()"
   ]
  },
  {
   "cell_type": "code",
   "execution_count": null,
   "metadata": {},
   "outputs": [],
   "source": [
    "# What do the counts look like?\n",
    "sns.countplot(y='chlorides', data=whiteWine);"
   ]
  },
  {
   "cell_type": "code",
   "execution_count": null,
   "metadata": {},
   "outputs": [],
   "source": [
    "#Add PH to sub df\n",
    "whi_bin['chlorides'] = whiteWine['chlorides']"
   ]
  },
  {
   "cell_type": "code",
   "execution_count": null,
   "metadata": {},
   "outputs": [],
   "source": [
    "#Remove missing values\n",
    "whi_bin = whi_bin.dropna(subset=['chlorides'])\n",
    "print(len(whi_bin))"
   ]
  },
  {
   "cell_type": "code",
   "execution_count": null,
   "metadata": {},
   "outputs": [],
   "source": [
    "# Are there any missing values in the chlorides column?\n",
    "redWine.chlorides.isnull().sum()"
   ]
  },
  {
   "cell_type": "code",
   "execution_count": null,
   "metadata": {},
   "outputs": [],
   "source": [
    "# What do the counts look like?\n",
    "sns.distplot(redWine.chlorides)"
   ]
  },
  {
   "cell_type": "code",
   "execution_count": null,
   "metadata": {},
   "outputs": [],
   "source": [
    "#Add to sub dfs\n",
    "red_bin['chlorides'] = redWine['chlorides']"
   ]
  },
  {
   "cell_type": "markdown",
   "metadata": {},
   "source": [
    "### Target Feature: residual sugar\n",
    "\n",
    "Description: Wine residual sugar level."
   ]
  },
  {
   "cell_type": "code",
   "execution_count": null,
   "metadata": {},
   "outputs": [],
   "source": [
    "# Are there any missing values in the residual sugar column?\n",
    "whiteWine['residual sugar'].isnull().sum()"
   ]
  },
  {
   "cell_type": "code",
   "execution_count": null,
   "metadata": {},
   "outputs": [],
   "source": [
    "# What do the counts look like?\n",
    "sns.countplot(y='residual sugar', data=whiteWine);"
   ]
  },
  {
   "cell_type": "code",
   "execution_count": null,
   "metadata": {},
   "outputs": [],
   "source": [
    "#Add PH to sub df\n",
    "whi_bin['residual sugar'] = whiteWine['residual sugar']"
   ]
  },
  {
   "cell_type": "code",
   "execution_count": null,
   "metadata": {},
   "outputs": [],
   "source": [
    "#Remove missing values\n",
    "whi_bin = whi_bin.dropna(subset=['residual sugar'])\n",
    "print(len(whi_bin))"
   ]
  },
  {
   "cell_type": "code",
   "execution_count": null,
   "metadata": {},
   "outputs": [],
   "source": [
    "# Are there any missing values in the residual sugar column?\n",
    "redWine['residual sugar'].isnull().sum()"
   ]
  },
  {
   "cell_type": "code",
   "execution_count": null,
   "metadata": {},
   "outputs": [],
   "source": [
    "# What do the counts look like?\n",
    "# What do the counts look like?\n",
    "sns.distplot(redWine['residual sugar'])"
   ]
  },
  {
   "cell_type": "code",
   "execution_count": null,
   "metadata": {},
   "outputs": [],
   "source": [
    "#Add to sub dfs\n",
    "red_bin['residual sugar'] = redWine['residual sugar']"
   ]
  },
  {
   "cell_type": "markdown",
   "metadata": {},
   "source": [
    "### Target Feature: citric acid\n",
    "\n",
    "Description: Wine citric acid level."
   ]
  },
  {
   "cell_type": "code",
   "execution_count": null,
   "metadata": {},
   "outputs": [],
   "source": [
    "# Are there any missing values in the citric acid column?\n",
    "whiteWine['citric acid'].isnull().sum()"
   ]
  },
  {
   "cell_type": "code",
   "execution_count": null,
   "metadata": {},
   "outputs": [],
   "source": [
    "# What do the counts look like?\n",
    "sns.countplot(y='citric acid', data=whiteWine);"
   ]
  },
  {
   "cell_type": "code",
   "execution_count": null,
   "metadata": {},
   "outputs": [],
   "source": [
    "#Add PH to sub df\n",
    "whi_bin['citric acid'] = whiteWine['citric acid']"
   ]
  },
  {
   "cell_type": "code",
   "execution_count": null,
   "metadata": {},
   "outputs": [],
   "source": [
    "#Remove missing values\n",
    "whi_bin = whi_bin.dropna(subset=['citric acid'])\n",
    "print(len(whi_bin))"
   ]
  },
  {
   "cell_type": "code",
   "execution_count": null,
   "metadata": {},
   "outputs": [],
   "source": [
    "# Are there any missing values in the citric acid column?\n",
    "redWine['citric acid'].isnull().sum()"
   ]
  },
  {
   "cell_type": "code",
   "execution_count": null,
   "metadata": {},
   "outputs": [],
   "source": [
    "# What do the counts look like?\n",
    "sns.countplot(y='citric acid', data=redWine);"
   ]
  },
  {
   "cell_type": "code",
   "execution_count": null,
   "metadata": {},
   "outputs": [],
   "source": [
    "#Add to sub dfs\n",
    "red_bin['citric acid'] = redWine['citric acid']"
   ]
  },
  {
   "cell_type": "code",
   "execution_count": null,
   "metadata": {},
   "outputs": [],
   "source": [
    "#Remove missing values\n",
    "red_bin = red_bin.dropna(subset=['citric acid'])\n",
    "print(len(red_bin))"
   ]
  },
  {
   "cell_type": "markdown",
   "metadata": {},
   "source": [
    "### Target Feature: volatile acidity\n",
    "\n",
    "Description: Wine volatile acidity level."
   ]
  },
  {
   "cell_type": "code",
   "execution_count": null,
   "metadata": {},
   "outputs": [],
   "source": [
    "# Are there any missing values in the volatile acidity column?\n",
    "whiteWine['volatile acidity'].isnull().sum()"
   ]
  },
  {
   "cell_type": "code",
   "execution_count": null,
   "metadata": {},
   "outputs": [],
   "source": [
    "# What do the counts look like?\n",
    "sns.countplot(y='volatile acidity', data=whiteWine);"
   ]
  },
  {
   "cell_type": "code",
   "execution_count": null,
   "metadata": {},
   "outputs": [],
   "source": [
    "#Add PH to sub df\n",
    "whi_bin['volatile acidity'] = whiteWine['volatile acidity']"
   ]
  },
  {
   "cell_type": "code",
   "execution_count": null,
   "metadata": {},
   "outputs": [],
   "source": [
    "#Remove missing values\n",
    "whi_bin = whi_bin.dropna(subset=['volatile acidity'])\n",
    "print(len(whi_bin))"
   ]
  },
  {
   "cell_type": "code",
   "execution_count": null,
   "metadata": {},
   "outputs": [],
   "source": [
    "# Are there any missing values in the volatile acidity column?\n",
    "redWine['volatile acidity'].isnull().sum()"
   ]
  },
  {
   "cell_type": "code",
   "execution_count": null,
   "metadata": {},
   "outputs": [],
   "source": [
    "# What do the counts look like?\n",
    "sns.countplot(y='volatile acidity', data=redWine);"
   ]
  },
  {
   "cell_type": "code",
   "execution_count": null,
   "metadata": {},
   "outputs": [],
   "source": [
    "#Add to sub dfs\n",
    "red_bin['volatile acidity'] = redWine['volatile acidity']"
   ]
  },
  {
   "cell_type": "code",
   "execution_count": null,
   "metadata": {},
   "outputs": [],
   "source": [
    "#Remove missing values\n",
    "red_bin = red_bin.dropna(subset=['volatile acidity'])\n",
    "print(len(red_bin))"
   ]
  },
  {
   "cell_type": "markdown",
   "metadata": {},
   "source": [
    "### Target Feature: fixed acidity\n",
    "\n",
    "Description: Wine fixed acidity level."
   ]
  },
  {
   "cell_type": "code",
   "execution_count": null,
   "metadata": {},
   "outputs": [],
   "source": [
    "# Are there any missing values in the fixed acidity column?\n",
    "whiteWine['fixed acidity'].isnull().sum()"
   ]
  },
  {
   "cell_type": "code",
   "execution_count": null,
   "metadata": {},
   "outputs": [],
   "source": [
    "# What do the counts look like?\n",
    "sns.countplot(y='fixed acidity', data=whiteWine);"
   ]
  },
  {
   "cell_type": "code",
   "execution_count": null,
   "metadata": {},
   "outputs": [],
   "source": [
    "#Add PH to sub df\n",
    "whi_bin['fixed acidity'] = whiteWine['fixed acidity']"
   ]
  },
  {
   "cell_type": "code",
   "execution_count": null,
   "metadata": {},
   "outputs": [],
   "source": [
    "#Remove missing values\n",
    "whi_bin = whi_bin.dropna(subset=['fixed acidity'])\n",
    "print(len(whi_bin))"
   ]
  },
  {
   "cell_type": "code",
   "execution_count": null,
   "metadata": {},
   "outputs": [],
   "source": [
    "# Are there any missing values in the fixed acidity column?\n",
    "redWine['fixed acidity'].isnull().sum()"
   ]
  },
  {
   "cell_type": "code",
   "execution_count": null,
   "metadata": {},
   "outputs": [],
   "source": [
    "# What do the counts look like?\n",
    "sns.countplot(y='fixed acidity', data=redWine);"
   ]
  },
  {
   "cell_type": "code",
   "execution_count": null,
   "metadata": {},
   "outputs": [],
   "source": [
    "#Add to sub dfs\n",
    "red_bin['fixed acidity'] = redWine['fixed acidity']"
   ]
  },
  {
   "cell_type": "code",
   "execution_count": null,
   "metadata": {},
   "outputs": [],
   "source": [
    "#Remove missing values\n",
    "red_bin = red_bin.dropna(subset=['fixed acidity'])\n",
    "print(len(red_bin))"
   ]
  },
  {
   "cell_type": "markdown",
   "metadata": {},
   "source": [
    "## Feature Encoding\n",
    "\n",
    " There is no need for this step since there were no categorical data other that the output in the previous step. The output variable is already converted to binary"
   ]
  },
  {
   "cell_type": "code",
   "execution_count": null,
   "metadata": {},
   "outputs": [],
   "source": [
    "whi_bin.head()"
   ]
  },
  {
   "cell_type": "code",
   "execution_count": null,
   "metadata": {},
   "outputs": [],
   "source": [
    "red_bin.head()"
   ]
  },
  {
   "cell_type": "markdown",
   "metadata": {},
   "source": [
    "## Start Building Machine Learning Models\n",
    "\n",
    "Now our data has been manipulating and cleaned, we can run a series of different machine learning algorithms over it to find which yield the best results."
   ]
  },
  {
   "cell_type": "markdown",
   "metadata": {},
   "source": [
    "### Let's seperate the data\n",
    "First we will separate the data into X and y variables (or predictores and response), and than split the data into train and test dataset in order to fit our model in the training Dataset against our test afterwards."
   ]
  },
  {
   "cell_type": "code",
   "execution_count": null,
   "metadata": {},
   "outputs": [],
   "source": [
    "#X and y for WHITE wine dataset\n",
    "XW= whi_bin.drop('quality', axis=1) \n",
    "yw = whi_bin.quality"
   ]
  },
  {
   "cell_type": "code",
   "execution_count": null,
   "metadata": {},
   "outputs": [],
   "source": [
    "#X and y for RED wine dataset\n",
    "XR= red_bin.drop('quality', axis=1) \n",
    "yr = red_bin.quality"
   ]
  },
  {
   "cell_type": "code",
   "execution_count": null,
   "metadata": {},
   "outputs": [],
   "source": [
    "#X_train,test and y for WHITE wine dataset\n",
    "XW_train, XW_test, yw_train, yw_test = train_test_split(XW, yw, test_size=0.3, random_state=42)"
   ]
  },
  {
   "cell_type": "code",
   "execution_count": null,
   "metadata": {},
   "outputs": [],
   "source": [
    "#X_train,test and y for RED wine dataset\n",
    "XR_train, XR_test, yr_train, yr_test = train_test_split(XR, yr, test_size=0.3, random_state=42)"
   ]
  },
  {
   "cell_type": "markdown",
   "metadata": {},
   "source": [
    "### Define a function to fit machine learning algorithms\n",
    "\n",
    "To prevent writing code multiple times, we will functionise fitting the model and returning the accuracy scores."
   ]
  },
  {
   "cell_type": "code",
   "execution_count": null,
   "metadata": {},
   "outputs": [],
   "source": [
    "# Function that runs the requested algorithm and returns the accuracy metrics\n",
    "def fit_ml_algo(algo, X_train, y_train, cv):\n",
    "    \n",
    "    # One Pass\n",
    "    model = algo.fit(X_train, y_train)\n",
    "    acc = round(model.score(X_train, y_train) * 100, 2)\n",
    "    \n",
    "    # Cross Validation \n",
    "    train_pred = model_selection.cross_val_predict(algo, X_train, y_train, cv=cv)\n",
    "    # Cross-validation accuracy metric\n",
    "    acc_cv = round(metrics.accuracy_score(y_train, train_pred) * 100, 2)\n",
    "    \n",
    "    return train_pred, acc, acc_cv"
   ]
  },
  {
   "cell_type": "markdown",
   "metadata": {},
   "source": [
    "### Logistic Regression"
   ]
  },
  {
   "cell_type": "code",
   "execution_count": null,
   "metadata": {},
   "outputs": [],
   "source": [
    "# Logistic Regression for WHITE WINE\n",
    "start_time = time.time()\n",
    "train_pred_logW, acc_logW, acc_cv_logW = fit_ml_algo(LogisticRegression(), XW_train, yw_train,10)\n",
    "log_time = (time.time() - start_time)\n",
    "print(\"Accuracy: %s\" % acc_logW)\n",
    "print(\"Accuracy CV 10-Fold: %s\" % acc_cv_logW)\n",
    "print(\"Running Time: %s\" % datetime.timedelta(seconds=log_time))"
   ]
  },
  {
   "cell_type": "code",
   "execution_count": null,
   "metadata": {},
   "outputs": [],
   "source": [
    "# Logistic Regression for RED WINE\n",
    "start_time = time.time()\n",
    "train_pred_logR, acc_logR, acc_cv_logR = fit_ml_algo(LogisticRegression(), XR_train, yr_train,10)\n",
    "log_time = (time.time() - start_time)\n",
    "print(\"Accuracy: %s\" % acc_logR)\n",
    "print(\"Accuracy CV 10-Fold: %s\" % acc_cv_logR)\n",
    "print(\"Running Time: %s\" % datetime.timedelta(seconds=log_time))"
   ]
  },
  {
   "cell_type": "markdown",
   "metadata": {},
   "source": [
    "### K-Nearest Neighbours"
   ]
  },
  {
   "cell_type": "code",
   "execution_count": null,
   "metadata": {},
   "outputs": [],
   "source": [
    "# k-Nearest Neighbours for WHITE WINE\n",
    "start_time = time.time()\n",
    "train_pred_knnW, acc_knnW, acc_cv_knnW = fit_ml_algo(KNeighborsClassifier(), \n",
    "                                                  XW_train, \n",
    "                                                  yw_train, \n",
    "                                                  10)\n",
    "knn_time = (time.time() - start_time)\n",
    "print(\"Accuracy: %s\" % acc_knnW)\n",
    "print(\"Accuracy CV 10-Fold: %s\" % acc_cv_knnW)\n",
    "print(\"Running Time: %s\" % datetime.timedelta(seconds=knn_time))"
   ]
  },
  {
   "cell_type": "code",
   "execution_count": null,
   "metadata": {},
   "outputs": [],
   "source": [
    "# k-Nearest Neighbours for RED WINE\n",
    "start_time = time.time()\n",
    "train_pred_knnR, acc_knnR, acc_cv_knnR = fit_ml_algo(KNeighborsClassifier(), \n",
    "                                                  XR_train, \n",
    "                                                  yr_train, \n",
    "                                                  10)\n",
    "knn_time = (time.time() - start_time)\n",
    "print(\"Accuracy: %s\" % acc_knnR)\n",
    "print(\"Accuracy CV 10-Fold: %s\" % acc_cv_knnR)\n",
    "print(\"Running Time: %s\" % datetime.timedelta(seconds=knn_time))"
   ]
  },
  {
   "cell_type": "markdown",
   "metadata": {},
   "source": [
    "### Gaussian Naive Bayes"
   ]
  },
  {
   "cell_type": "code",
   "execution_count": null,
   "metadata": {},
   "outputs": [],
   "source": [
    "# Gaussian Naive Bayes for WHITE WINE\n",
    "start_time = time.time()\n",
    "train_pred_gaussianW, acc_gaussianW, acc_cv_gaussianW = fit_ml_algo(GaussianNB(), \n",
    "                                                                      XW_train, \n",
    "                                                                      yw_train, \n",
    "                                                                           10)\n",
    "gaussian_time = (time.time() - start_time)\n",
    "print(\"Accuracy: %s\" % acc_gaussianW)\n",
    "print(\"Accuracy CV 10-Fold: %s\" % acc_cv_gaussianW)\n",
    "print(\"Running Time: %s\" % datetime.timedelta(seconds=gaussian_time))"
   ]
  },
  {
   "cell_type": "code",
   "execution_count": null,
   "metadata": {},
   "outputs": [],
   "source": [
    "# Gaussian Naive Bayes for RED WINE\n",
    "start_time = time.time()\n",
    "train_pred_gaussianR, acc_gaussianR, acc_cv_gaussianR = fit_ml_algo(GaussianNB(), \n",
    "                                                                      XR_train, \n",
    "                                                                      yr_train, \n",
    "                                                                           10)\n",
    "gaussian_time = (time.time() - start_time)\n",
    "print(\"Accuracy: %s\" % acc_gaussianR)\n",
    "print(\"Accuracy CV 10-Fold: %s\" % acc_cv_gaussianR)\n",
    "print(\"Running Time: %s\" % datetime.timedelta(seconds=gaussian_time))"
   ]
  },
  {
   "cell_type": "markdown",
   "metadata": {},
   "source": [
    "### Linear Support Vector Machines (SVC)"
   ]
  },
  {
   "cell_type": "code",
   "execution_count": null,
   "metadata": {},
   "outputs": [],
   "source": [
    "# Linear SVC for WHITE WINE\n",
    "start_time = time.time()\n",
    "train_pred_svcW, acc_linear_svcW, acc_cv_linear_svcW = fit_ml_algo(LinearSVC(),\n",
    "                                                                XW_train, \n",
    "                                                                yw_train, \n",
    "                                                                10)\n",
    "linear_svc_time = (time.time() - start_time)\n",
    "print(\"Accuracy: %s\" % acc_linear_svcW)\n",
    "print(\"Accuracy CV 10-Fold: %s\" % acc_cv_linear_svcW)\n",
    "print(\"Running Time: %s\" % datetime.timedelta(seconds=linear_svc_time))"
   ]
  },
  {
   "cell_type": "code",
   "execution_count": null,
   "metadata": {},
   "outputs": [],
   "source": [
    "# Linear SVC for RED WINE\n",
    "start_time = time.time()\n",
    "train_pred_svcR, acc_linear_svcR, acc_cv_linear_svcR = fit_ml_algo(LinearSVC(),\n",
    "                                                                XR_train, \n",
    "                                                                yr_train, \n",
    "                                                                10)\n",
    "linear_svc_time = (time.time() - start_time)\n",
    "print(\"Accuracy: %s\" % acc_linear_svcR)\n",
    "print(\"Accuracy CV 10-Fold: %s\" % acc_cv_linear_svcR)\n",
    "print(\"Running Time: %s\" % datetime.timedelta(seconds=linear_svc_time))"
   ]
  },
  {
   "cell_type": "markdown",
   "metadata": {},
   "source": [
    "### Stochastic Gradient Descent"
   ]
  },
  {
   "cell_type": "code",
   "execution_count": null,
   "metadata": {},
   "outputs": [],
   "source": [
    "# Stochastic Gradient Descent for WHITE WINE\n",
    "start_time = time.time()\n",
    "train_pred_sgdW, acc_sgdW, acc_cv_sgdW = fit_ml_algo(SGDClassifier(), \n",
    "                                                  XW_train, \n",
    "                                                  yw_train,\n",
    "                                                  10)\n",
    "sgd_time = (time.time() - start_time)\n",
    "print(\"Accuracy: %s\" % acc_sgdW)\n",
    "print(\"Accuracy CV 10-Fold: %s\" % acc_cv_sgdW)\n",
    "print(\"Running Time: %s\" % datetime.timedelta(seconds=sgd_time))"
   ]
  },
  {
   "cell_type": "code",
   "execution_count": null,
   "metadata": {},
   "outputs": [],
   "source": [
    "# Stochastic Gradient Descent for RED WINE\n",
    "start_time = time.time()\n",
    "train_pred_sgdR, acc_sgdR, acc_cv_sgdR = fit_ml_algo(SGDClassifier(), \n",
    "                                                  XR_train, \n",
    "                                                  yr_train,\n",
    "                                                  10)\n",
    "sgd_time = (time.time() - start_time)\n",
    "print(\"Accuracy: %s\" % acc_sgdR)\n",
    "print(\"Accuracy CV 10-Fold: %s\" % acc_cv_sgdR)\n",
    "print(\"Running Time: %s\" % datetime.timedelta(seconds=sgd_time))"
   ]
  },
  {
   "cell_type": "markdown",
   "metadata": {},
   "source": [
    "### Decision Tree Classifier"
   ]
  },
  {
   "cell_type": "code",
   "execution_count": null,
   "metadata": {},
   "outputs": [],
   "source": [
    "# Decision Tree Classifier for WHITE WINE\n",
    "start_time = time.time()\n",
    "train_pred_dtW, acc_dtW, acc_cv_dtW = fit_ml_algo(DecisionTreeClassifier(), \n",
    "                                                                XW_train, \n",
    "                                                                yw_train,\n",
    "                                                                10)\n",
    "dt_time = (time.time() - start_time)\n",
    "print(\"Accuracy: %s\" % acc_dtW)\n",
    "print(\"Accuracy CV 10-Fold: %s\" % acc_cv_dtW)\n",
    "print(\"Running Time: %s\" % datetime.timedelta(seconds=dt_time))"
   ]
  },
  {
   "cell_type": "code",
   "execution_count": null,
   "metadata": {},
   "outputs": [],
   "source": [
    "# Decision Tree Classifier for RED WINE\n",
    "start_time = time.time()\n",
    "train_pred_dtR, acc_dtR, acc_cv_dtR = fit_ml_algo(DecisionTreeClassifier(), \n",
    "                                                                XR_train, \n",
    "                                                                yr_train,\n",
    "                                                                10)\n",
    "dt_time = (time.time() - start_time)\n",
    "print(\"Accuracy: %s\" % acc_dtR)\n",
    "print(\"Accuracy CV 10-Fold: %s\" % acc_cv_dtR)\n",
    "print(\"Running Time: %s\" % datetime.timedelta(seconds=dt_time))"
   ]
  },
  {
   "cell_type": "markdown",
   "metadata": {},
   "source": [
    "### Gradient Boost Trees"
   ]
  },
  {
   "cell_type": "code",
   "execution_count": null,
   "metadata": {},
   "outputs": [],
   "source": [
    "# Gradient Boosting Trees for WHITE WINE\n",
    "start_time = time.time()\n",
    "train_pred_gbtW, acc_gbtW, acc_cv_gbtW = fit_ml_algo(GradientBoostingClassifier(), \n",
    "                                                                       XW_train, \n",
    "                                                                       yw_train,\n",
    "                                                                       10)\n",
    "gbt_time = (time.time() - start_time)\n",
    "print(\"Accuracy: %s\" % acc_gbtW)\n",
    "print(\"Accuracy CV 10-Fold: %s\" % acc_cv_gbtW)\n",
    "print(\"Running Time: %s\" % datetime.timedelta(seconds=gbt_time))"
   ]
  },
  {
   "cell_type": "code",
   "execution_count": null,
   "metadata": {},
   "outputs": [],
   "source": [
    "# Gradient Boosting Trees for RED WINE\n",
    "start_time = time.time()\n",
    "train_pred_gbtR, acc_gbtR, acc_cv_gbtR = fit_ml_algo(GradientBoostingClassifier(), \n",
    "                                                                       XR_train, \n",
    "                                                                       yr_train,\n",
    "                                                                       10)\n",
    "gbt_time = (time.time() - start_time)\n",
    "print(\"Accuracy: %s\" % acc_gbtR)\n",
    "print(\"Accuracy CV 10-Fold: %s\" % acc_cv_gbtR)\n",
    "print(\"Running Time: %s\" % datetime.timedelta(seconds=gbt_time))"
   ]
  },
  {
   "cell_type": "markdown",
   "metadata": {},
   "source": [
    "### Regular accuracy scores for White Wines on train dataset"
   ]
  },
  {
   "cell_type": "code",
   "execution_count": null,
   "metadata": {},
   "outputs": [],
   "source": [
    "models = pd.DataFrame({\n",
    "    'Model': ['KNN', 'Logistic Regression', 'Naive Bayes', \n",
    "              'Stochastic Gradient Decent', 'Linear SVC', \n",
    "              'Decision Tree', 'Gradient Boosting Trees'],\n",
    "    'Score': [\n",
    "        acc_knnW, \n",
    "        acc_logW,  \n",
    "        acc_gaussianW, \n",
    "        acc_sgdW, \n",
    "        acc_linear_svcW, \n",
    "        acc_dtW,\n",
    "        acc_gbtW\n",
    "    ]})\n",
    "print(\"---Regular Accuracy Scores---\")\n",
    "models.sort_values(by='Score', ascending=False)"
   ]
  },
  {
   "cell_type": "code",
   "execution_count": null,
   "metadata": {},
   "outputs": [],
   "source": [
    "cv_models = pd.DataFrame({\n",
    "    'Model': ['KNN', 'Logistic Regression', 'Naive Bayes', \n",
    "              'Stochastic Gradient Decent', 'Linear SVC', \n",
    "              'Decision Tree', 'Gradient Boosting Trees'],\n",
    "    'Score': [\n",
    "        acc_cv_knnW, \n",
    "        acc_cv_logW,      \n",
    "        acc_cv_gaussianW, \n",
    "        acc_cv_sgdW, \n",
    "        acc_cv_linear_svcW, \n",
    "        acc_cv_dtW,\n",
    "        acc_cv_gbtW\n",
    "        \n",
    "    ]})\n",
    "print('---Cross-validation Accuracy Scores---')\n",
    "cv_models.sort_values(by='Score', ascending=False)"
   ]
  },
  {
   "cell_type": "markdown",
   "metadata": {},
   "source": [
    "### Regular accuracy scores for Red Wines on Train Dataset"
   ]
  },
  {
   "cell_type": "code",
   "execution_count": null,
   "metadata": {},
   "outputs": [],
   "source": [
    "models = pd.DataFrame({\n",
    "    'Model': ['KNN', 'Logistic Regression', 'Naive Bayes', \n",
    "              'Stochastic Gradient Decent', 'Linear SVC', \n",
    "              'Decision Tree', 'Gradient Boosting Trees'],\n",
    "    'Score': [\n",
    "        acc_knnR, \n",
    "        acc_logR,  \n",
    "        acc_gaussianR, \n",
    "        acc_sgdR, \n",
    "        acc_linear_svcR, \n",
    "        acc_dtR,\n",
    "        acc_gbtR \n",
    "    ]})\n",
    "\n",
    "print(\"---Reguglar Accuracy Scores---\")\n",
    "models.sort_values(by='Score', ascending=False)"
   ]
  },
  {
   "cell_type": "code",
   "execution_count": null,
   "metadata": {},
   "outputs": [],
   "source": [
    "cv_models = pd.DataFrame({\n",
    "    'Model': ['KNN', 'Logistic Regression', 'Naive Bayes', \n",
    "              'Stochastic Gradient Decent', 'Linear SVC', \n",
    "              'Decision Tree', 'Gradient Boosting Trees'],\n",
    "    'Score': [\n",
    "        acc_cv_knnR, \n",
    "        acc_cv_logR,      \n",
    "        acc_cv_gaussianR, \n",
    "        acc_cv_sgdR, \n",
    "        acc_cv_linear_svcR, \n",
    "        acc_cv_dtR,\n",
    "        acc_cv_gbtR\n",
    "    ]})\n",
    "print('---Cross-validation Accuracy Scores---')\n",
    "cv_models.sort_values(by='Score', ascending=False)"
   ]
  },
  {
   "cell_type": "markdown",
   "metadata": {},
   "source": [
    "Gradient boosting trees was the model that displayed the best performance in both Red and White wines dataaset. Going forward the work should be focusing on improving the features in this model and compare its performance against the dataset."
   ]
  },
  {
   "cell_type": "markdown",
   "metadata": {},
   "source": [
    "## Applying model to Test dataset\n"
   ]
  },
  {
   "cell_type": "markdown",
   "metadata": {},
   "source": [
    "### Logistic Regression"
   ]
  },
  {
   "cell_type": "code",
   "execution_count": null,
   "metadata": {},
   "outputs": [],
   "source": [
    "# Logistic Regression for WHITE WINE\n",
    "start_time = time.time()\n",
    "train_pred_logW, acc_logW, acc_cv_log5 = fit_ml_algo(LogisticRegression(), XW_test, yw_test,10)\n",
    "log_time = (time.time() - start_time)\n",
    "print(\"Accuracy: %s\" % acc_logW)\n",
    "print(\"Accuracy CV 10-Fold: %s\" % acc_cv_logW)\n",
    "print(\"Running Time: %s\" % datetime.timedelta(seconds=log_time))"
   ]
  },
  {
   "cell_type": "code",
   "execution_count": null,
   "metadata": {},
   "outputs": [],
   "source": [
    "# Logistic Regression for RED WINE\n",
    "start_time = time.time()\n",
    "train_pred_logR, acc_logR, acc_cv_logR = fit_ml_algo(LogisticRegression(), XR_test, yr_test,10)\n",
    "log_time = (time.time() - start_time)\n",
    "print(\"Accuracy: %s\" % acc_logR)\n",
    "print(\"Accuracy CV 10-Fold: %s\" % acc_cv_logR)\n",
    "print(\"Running Time: %s\" % datetime.timedelta(seconds=log_time))"
   ]
  },
  {
   "cell_type": "markdown",
   "metadata": {},
   "source": [
    "### Decision Tree Classifier"
   ]
  },
  {
   "cell_type": "code",
   "execution_count": null,
   "metadata": {},
   "outputs": [],
   "source": [
    "# Decision Tree Classifier for WHITE WINE\n",
    "start_time = time.time()\n",
    "test_pred_dtWT, acc_dtWT, acc_cv_dtWT = fit_ml_algo(DecisionTreeClassifier(), \n",
    "                                                                XW_test, \n",
    "                                                                yw_test,\n",
    "                                                                10)\n",
    "dt_time = (time.time() - start_time)\n",
    "print(\"Accuracy: %s\" % acc_dtWT)\n",
    "print(\"Accuracy CV 10-Fold: %s\" % acc_cv_dtWT)\n",
    "print(\"Running Time: %s\" % datetime.timedelta(seconds=dt_time))"
   ]
  },
  {
   "cell_type": "code",
   "execution_count": null,
   "metadata": {},
   "outputs": [],
   "source": [
    "# Decision Tree Classifier for RED WINE\n",
    "start_time = time.time()\n",
    "test_pred_dtRT, acc_dtRT, acc_cv_dtRT = fit_ml_algo(DecisionTreeClassifier(), \n",
    "                                                                XR_test, \n",
    "                                                                yr_test,\n",
    "                                                                10)\n",
    "dt_time = (time.time() - start_time)\n",
    "print(\"Accuracy: %s\" % acc_dtRT)\n",
    "print(\"Accuracy CV 10-Fold: %s\" % acc_cv_dtRT)\n",
    "print(\"Running Time: %s\" % datetime.timedelta(seconds=dt_time))"
   ]
  },
  {
   "cell_type": "markdown",
   "metadata": {},
   "source": [
    "### Gradient Boost Trees"
   ]
  },
  {
   "cell_type": "code",
   "execution_count": null,
   "metadata": {},
   "outputs": [],
   "source": [
    "# Gradient Boosting Trees for WHITE WINE\n",
    "start_time = time.time()\n",
    "test_pred_gbtWT, acc_gbtWT, acc_cv_gbtWT = fit_ml_algo(GradientBoostingClassifier(), \n",
    "                                                                       XW_test, \n",
    "                                                                       yw_test,\n",
    "                                                                       10)\n",
    "gbt_time = (time.time() - start_time)\n",
    "print(\"Accuracy: %s\" % acc_gbtWT)\n",
    "print(\"Accuracy CV 10-Fold: %s\" % acc_cv_gbtWT)\n",
    "print(\"Running Time: %s\" % datetime.timedelta(seconds=gbt_time))"
   ]
  },
  {
   "cell_type": "code",
   "execution_count": null,
   "metadata": {},
   "outputs": [],
   "source": [
    "# Gradient Boosting Trees for RED WINE\n",
    "start_time = time.time()\n",
    "test_pred_gbtRT, acc_gbtRT, acc_cv_gbtRT = fit_ml_algo(GradientBoostingClassifier(), \n",
    "                                                                       XR_test, \n",
    "                                                                       yr_test,\n",
    "                                                                       10)\n",
    "\n",
    "gbt_time = (time.time() - start_time)\n",
    "print(\"Accuracy: %s\" % acc_gbtRT)\n",
    "print(\"Accuracy CV 10-Fold: %s\" % acc_cv_gbtRT)\n",
    "print(\"Running Time: %s\" % datetime.timedelta(seconds=gbt_time))"
   ]
  },
  {
   "cell_type": "markdown",
   "metadata": {},
   "source": [
    "We can see here that the cross_validation avoids overfitting in the test dataset"
   ]
  },
  {
   "cell_type": "code",
   "execution_count": null,
   "metadata": {},
   "outputs": [],
   "source": []
  },
  {
   "cell_type": "markdown",
   "metadata": {},
   "source": [
    "---------------------------"
   ]
  },
  {
   "cell_type": "markdown",
   "metadata": {},
   "source": [
    "## What attributes in terms of chemical components contributes for a good wine? What would make the best wine possible? "
   ]
  },
  {
   "cell_type": "markdown",
   "metadata": {},
   "source": [
    "### Best Features for White wine"
   ]
  },
  {
   "cell_type": "code",
   "execution_count": null,
   "metadata": {},
   "outputs": [],
   "source": [
    "## Feature Importance\n",
    "best_modelW = GradientBoostingClassifier( )\n",
    "best_modelW.fit(XW_train, yw_train)"
   ]
  },
  {
   "cell_type": "code",
   "execution_count": null,
   "metadata": {},
   "outputs": [],
   "source": [
    "# Plot the feature importance scores\n",
    "feature_importance(best_modelW, XW_train)"
   ]
  },
  {
   "cell_type": "markdown",
   "metadata": {},
   "source": [
    "### Best Features for Red wine"
   ]
  },
  {
   "cell_type": "code",
   "execution_count": null,
   "metadata": {},
   "outputs": [],
   "source": [
    "## Feature Importance\n",
    "best_modelR = GradientBoostingClassifier( )\n",
    "best_modelR.fit(XR_train, yr_train)"
   ]
  },
  {
   "cell_type": "code",
   "execution_count": null,
   "metadata": {},
   "outputs": [],
   "source": [
    "# Plot the feature importance scores\n",
    "feature_importance(best_modelR, XR_train)"
   ]
  },
  {
   "cell_type": "markdown",
   "metadata": {},
   "source": [
    "-------------------------------"
   ]
  },
  {
   "cell_type": "markdown",
   "metadata": {},
   "source": [
    "## Are there any differences between the wine composition, quality perceived and whether the wine is red or white?"
   ]
  },
  {
   "cell_type": "code",
   "execution_count": null,
   "metadata": {},
   "outputs": [],
   "source": [
    "# Frequency of grade for white wine\n",
    "fig = plt.figure(figsize=(15,5))\n",
    "sns.countplot(y='quality', data=whiteWine);\n",
    "print(whiteWine.quality.value_counts())"
   ]
  },
  {
   "cell_type": "code",
   "execution_count": null,
   "metadata": {},
   "outputs": [],
   "source": [
    "# Frequency of grade for red wine\n",
    "fig = plt.figure(figsize=(15,5))\n",
    "sns.countplot(y='quality', data=redWine);\n",
    "print(redWine.quality.value_counts())\n"
   ]
  },
  {
   "cell_type": "code",
   "execution_count": null,
   "metadata": {},
   "outputs": [],
   "source": [
    "whiteWine.describe()"
   ]
  },
  {
   "cell_type": "code",
   "execution_count": null,
   "metadata": {},
   "outputs": [],
   "source": [
    "redWine.describe()"
   ]
  },
  {
   "cell_type": "code",
   "execution_count": null,
   "metadata": {},
   "outputs": [],
   "source": [
    "bestWhites = whiteWine.loc[(whiteWine.quality >= 6)]"
   ]
  },
  {
   "cell_type": "code",
   "execution_count": null,
   "metadata": {},
   "outputs": [],
   "source": [
    "bestReds =  redWine.loc[(redWine.quality >= 6)]"
   ]
  },
  {
   "cell_type": "code",
   "execution_count": null,
   "metadata": {},
   "outputs": [],
   "source": [
    "bestWhites.describe()"
   ]
  },
  {
   "cell_type": "code",
   "execution_count": null,
   "metadata": {},
   "outputs": [],
   "source": [
    "bestReds.describe()"
   ]
  },
  {
   "cell_type": "markdown",
   "metadata": {},
   "source": [
    "----------------------------"
   ]
  },
  {
   "cell_type": "markdown",
   "metadata": {},
   "source": [
    "# Try to improve accuracy of the best models"
   ]
  },
  {
   "cell_type": "markdown",
   "metadata": {},
   "source": [
    "## Applying best performing models only on the 5 most relevant predictors"
   ]
  },
  {
   "cell_type": "code",
   "execution_count": null,
   "metadata": {},
   "outputs": [],
   "source": [
    "#X and y for WHITE wine dataset\n",
    "XW5= whi_bin.drop(['quality','chlorides','pH','sulphates','fixed acidity','density','total sulfur dioxide'], axis=1) \n",
    "yw5 = whi_bin.quality\n",
    "#X and y for RED wine dataset\n",
    "XR5= red_bin.drop(['quality','citric acid','pH','residual sugar', 'density','fixed acidity'], axis=1) \n",
    "yr5 = red_bin.quality\n",
    "#X_train,test and y for WHITE wine dataset\n",
    "XW5_train, XW5_test, yw5_train, yw5_test = train_test_split(XW5, yw5, test_size=0.3, random_state=42)\n",
    "#X_train,test and y for RED wine dataset\n",
    "XR5_train, XR5_test, yr5_train, yr5_test = train_test_split(XR5, yr5, test_size=0.3, random_state=42)"
   ]
  },
  {
   "cell_type": "markdown",
   "metadata": {},
   "source": [
    "### Gradient Boosting Classifier"
   ]
  },
  {
   "cell_type": "code",
   "execution_count": null,
   "metadata": {},
   "outputs": [],
   "source": [
    "#Try the best models in the reduced dataset\n",
    "# Gradient Boosting Trees for WHITE WINE\n",
    "start_time = time.time()\n",
    "test_pred_gbtWT5, acc_gbtWT5, acc_cv_gbtWT5 = fit_ml_algo(GradientBoostingClassifier(), \n",
    "                                                                       XW5_test, \n",
    "                                                                       yw5_test,\n",
    "                                                                       10)\n",
    "gbt_time = (time.time() - start_time)\n",
    "print(\"Accuracy: %s\" % acc_gbtWT5)\n",
    "print(\"Accuracy CV 10-Fold: %s\" % acc_cv_gbtWT5)\n",
    "print(\"Running Time: %s\" % datetime.timedelta(seconds=gbt_time))\n"
   ]
  },
  {
   "cell_type": "code",
   "execution_count": null,
   "metadata": {},
   "outputs": [],
   "source": [
    "# Gradient Boosting Trees for RED WINE\n",
    "start_time = time.time()\n",
    "test_pred_gbtRT5, acc_gbtRT5, acc_cv_gbtRT5 = fit_ml_algo(GradientBoostingClassifier(), \n",
    "                                                                       XR5_test, \n",
    "                                                                       yr5_test,\n",
    "                                                                       10)\n",
    "\n",
    "gbt_time = (time.time() - start_time)\n",
    "print(\"Accuracy: %s\" % acc_gbtRT5)\n",
    "print(\"Accuracy CV 10-Fold: %s\" % acc_cv_gbtRT5)\n",
    "print(\"Running Time: %s\" % datetime.timedelta(seconds=gbt_time))\n"
   ]
  },
  {
   "cell_type": "markdown",
   "metadata": {},
   "source": [
    "### Logistic Regression"
   ]
  },
  {
   "cell_type": "code",
   "execution_count": null,
   "metadata": {},
   "outputs": [],
   "source": [
    "# Logistic Regression for WHITE WINE\n",
    "start_time = time.time()\n",
    "train_pred_logW5, acc_logW5, acc_cv_logW5 = fit_ml_algo(LogisticRegression(), XW5_test, yw5_test,10)\n",
    "log_time = (time.time() - start_time)\n",
    "print(\"Accuracy: %s\" % acc_logW5)\n",
    "print(\"Accuracy CV 10-Fold: %s\" % acc_cv_logW5)\n",
    "print(\"Running Time: %s\" % datetime.timedelta(seconds=log_time))"
   ]
  },
  {
   "cell_type": "code",
   "execution_count": null,
   "metadata": {},
   "outputs": [],
   "source": [
    "# Logistic Regression for RED WINE\n",
    "start_time = time.time()\n",
    "train_pred_logR5, acc_logR5, acc_cv_logR5 = fit_ml_algo(LogisticRegression(), XR5_test, yr5_test,10)\n",
    "log_time = (time.time() - start_time)\n",
    "print(\"Accuracy: %s\" % acc_logR5)\n",
    "print(\"Accuracy CV 10-Fold: %s\" % acc_cv_logR5)\n",
    "print(\"Running Time: %s\" % datetime.timedelta(seconds=log_time))"
   ]
  },
  {
   "cell_type": "markdown",
   "metadata": {},
   "source": [
    "### Decision Tree Classifier"
   ]
  },
  {
   "cell_type": "code",
   "execution_count": null,
   "metadata": {},
   "outputs": [],
   "source": [
    "# Decision Tree Classifier for WHITE WINE\n",
    "start_time = time.time()\n",
    "test_pred_dtWT5, acc_dtWT5, acc_cv_dtWT5 = fit_ml_algo(DecisionTreeClassifier(), \n",
    "                                                                XW5_test, \n",
    "                                                                yw5_test,\n",
    "                                                                10)\n",
    "dt_time = (time.time() - start_time)\n",
    "print(\"Accuracy: %s\" % acc_dtWT5)\n",
    "print(\"Accuracy CV 10-Fold: %s\" % acc_cv_dtWT5)\n",
    "print(\"Running Time: %s\" % datetime.timedelta(seconds=dt_time))"
   ]
  },
  {
   "cell_type": "code",
   "execution_count": null,
   "metadata": {},
   "outputs": [],
   "source": [
    "# Decision Tree Classifier for RED WINE\n",
    "start_time = time.time()\n",
    "test_pred_dtRT5, acc_dtRT5, acc_cv_dtRT5 = fit_ml_algo(DecisionTreeClassifier(), \n",
    "                                                                XR5_test, \n",
    "                                                                yr5_test,\n",
    "                                                                10)\n",
    "dt_time = (time.time() - start_time)\n",
    "print(\"Accuracy: %s\" % acc_dtRT5)\n",
    "print(\"Accuracy CV 10-Fold: %s\" % acc_cv_dtRT5)\n",
    "print(\"Running Time: %s\" % datetime.timedelta(seconds=dt_time))"
   ]
  },
  {
   "cell_type": "markdown",
   "metadata": {},
   "source": [
    "### Tuning gradient boost paramenters for white wine"
   ]
  },
  {
   "cell_type": "code",
   "execution_count": null,
   "metadata": {},
   "outputs": [],
   "source": [
    "p_test = {'learning_rate':[0.15,0.1,0.05,0.01,0.005,0.001], 'n_estimators':[100,250,500,750,1000,1250,1500,1750]}\n",
    "\n",
    "tuning = GridSearchCV(estimator =GradientBoostingClassifier(max_depth=4, min_samples_split=2, min_samples_leaf=1, subsample=1,max_features='sqrt', random_state=10), \n",
    "            param_grid = p_test, scoring='accuracy',n_jobs=4, cv=5)\n",
    "tuning.fit(XW_train, yw_train)"
   ]
  },
  {
   "cell_type": "code",
   "execution_count": null,
   "metadata": {},
   "outputs": [],
   "source": [
    "print(F\"THE BEST SCORE IN  THE TRAINING DATASET AND ITS PARAMETERS ARE AS FOLOWS: {tuning.best_score_},{tuning.best_params_}\")"
   ]
  },
  {
   "cell_type": "code",
   "execution_count": null,
   "metadata": {},
   "outputs": [],
   "source": [
    "p_test2 = {'max_depth':[2,3,4,5,6,7] }\n",
    "tuning2 = GridSearchCV(estimator =GradientBoostingClassifier(learning_rate=0.01,n_estimators=1500, min_samples_split=2, min_samples_leaf=1, subsample=1,max_features='sqrt', random_state=10), \n",
    "            param_grid = p_test2, scoring='accuracy',n_jobs=4, cv=5)\n",
    "tuning2.fit(XW_train, yw_train)"
   ]
  },
  {
   "cell_type": "code",
   "execution_count": null,
   "metadata": {},
   "outputs": [],
   "source": [
    "print(F\"THE BEST SCORE IN  THE TRAINING DATASET AND ITS PARAMETERS ARE AS FOLOWS: {tuning2.best_score_},{tuning2.best_params_}\")"
   ]
  },
  {
   "cell_type": "markdown",
   "metadata": {},
   "source": [
    "### Apply optimized model to test"
   ]
  },
  {
   "cell_type": "code",
   "execution_count": null,
   "metadata": {},
   "outputs": [],
   "source": [
    "optimized_model1 = GradientBoostingClassifier(learning_rate=0.05, n_estimators=750,max_depth=7, min_samples_split=2, min_samples_leaf=1, subsample=1,max_features='sqrt', random_state=10)\n",
    "optimized_model1.fit(XW_train, yw_train)"
   ]
  },
  {
   "cell_type": "code",
   "execution_count": null,
   "metadata": {},
   "outputs": [],
   "source": [
    "print('Accuracy of the GBM on test set: {:.3f}'.format(optimized_model1.score(XW_test, yw_test)))"
   ]
  },
  {
   "cell_type": "markdown",
   "metadata": {},
   "source": [
    "-----------------------------------------"
   ]
  },
  {
   "cell_type": "markdown",
   "metadata": {},
   "source": [
    "### Tuning gradient boost paramenters for white wine"
   ]
  },
  {
   "cell_type": "code",
   "execution_count": null,
   "metadata": {},
   "outputs": [],
   "source": [
    "p_test3 = {'learning_rate':[0.15,0.1,0.05,0.01,0.005,0.001], 'n_estimators':[100,250,500,750,1000,1250,1500,1750]}\n",
    "\n",
    "tuning3 = GridSearchCV(estimator =GradientBoostingClassifier(max_depth=4, min_samples_split=2, min_samples_leaf=1, subsample=1,max_features='sqrt', random_state=10), \n",
    "            param_grid = p_test3, scoring='accuracy',n_jobs=4, cv=5)\n",
    "tuning3.fit(XR_train, yr_train)"
   ]
  },
  {
   "cell_type": "code",
   "execution_count": null,
   "metadata": {},
   "outputs": [],
   "source": [
    "print(F\"THE BEST SCORE IN  THE TRAINING DATASET AND ITS PARAMETERS ARE AS FOLOWS: {tuning3.best_score_},{tuning3.best_params_}\")"
   ]
  },
  {
   "cell_type": "code",
   "execution_count": null,
   "metadata": {},
   "outputs": [],
   "source": [
    "p_test4 = {'max_depth':[2,3,4,5,6,7] }\n",
    "tuning4 = GridSearchCV(estimator =GradientBoostingClassifier(learning_rate=0.01,n_estimators=1500, min_samples_split=2, min_samples_leaf=1, subsample=1,max_features='sqrt', random_state=10), \n",
    "            param_grid = p_test4, scoring='accuracy',n_jobs=4, cv=5)\n",
    "tuning4.fit(XR_train, yr_train)"
   ]
  },
  {
   "cell_type": "code",
   "execution_count": null,
   "metadata": {},
   "outputs": [],
   "source": [
    "print(F\"THE BEST SCORE IN  THE TRAINING DATASET AND ITS PARAMETERS ARE AS FOLOWS: {tuning4.best_score_},{tuning4.best_params_}\")"
   ]
  },
  {
   "cell_type": "markdown",
   "metadata": {},
   "source": [
    "### Apply optimized model to test"
   ]
  },
  {
   "cell_type": "code",
   "execution_count": null,
   "metadata": {},
   "outputs": [],
   "source": [
    "optimized_model2 = GradientBoostingClassifier(learning_rate=0.01, n_estimators=1500,max_depth=5, min_samples_split=2, min_samples_leaf=1, subsample=1,max_features='sqrt', random_state=10)\n",
    "optimized_model2.fit(XR_train, yr_train)"
   ]
  },
  {
   "cell_type": "code",
   "execution_count": null,
   "metadata": {},
   "outputs": [],
   "source": [
    "print('Accuracy of the GBM on test set: {:.3f}'.format(optimized_model2.score(XR_test, yr_test)))"
   ]
  },
  {
   "cell_type": "code",
   "execution_count": null,
   "metadata": {},
   "outputs": [],
   "source": []
  }
 ],
 "metadata": {
  "kernelspec": {
   "display_name": "Python 3",
   "language": "python",
   "name": "python3"
  },
  "language_info": {
   "codemirror_mode": {
    "name": "ipython",
    "version": 3
   },
   "file_extension": ".py",
   "mimetype": "text/x-python",
   "name": "python",
   "nbconvert_exporter": "python",
   "pygments_lexer": "ipython3",
   "version": "3.7.4"
  }
 },
 "nbformat": 4,
 "nbformat_minor": 2
}
